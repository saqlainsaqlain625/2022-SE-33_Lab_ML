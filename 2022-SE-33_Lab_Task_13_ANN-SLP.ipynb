{
 "cells": [
  {
   "cell_type": "markdown",
   "id": "4037b614-61f1-43fa-ae89-f165dfb33783",
   "metadata": {},
   "source": [
    "ANN_SLP"
   ]
  },
  {
   "cell_type": "code",
   "execution_count": 1,
   "id": "3e3ad8c0-d44e-4098-9fb8-497e55c1e8a6",
   "metadata": {},
   "outputs": [],
   "source": [
    "import numpy as np"
   ]
  },
  {
   "cell_type": "code",
   "execution_count": 2,
   "id": "f7b02abe-51b1-4eef-8207-d6b0902ed871",
   "metadata": {},
   "outputs": [],
   "source": [
    "# Define the OR Gate inputs and outputs\n",
    "X = np.array([[0, 0], [0, 1], [1, 0], [1, 1]])  # Input dataset\n",
    "Y = np.array([0, 1, 1, 1])  # Expected output"
   ]
  },
  {
   "cell_type": "code",
   "execution_count": 3,
   "id": "7b63ddf4-11c9-47a0-beed-bbfb653d5987",
   "metadata": {},
   "outputs": [],
   "source": [
    "# Initialize weights and bias randomly\n",
    "weights = np.random.rand(2)  # Two weights (one for each input)\n",
    "bias = np.random.rand(1)[0]  # Single bias term"
   ]
  },
  {
   "cell_type": "code",
   "execution_count": 4,
   "id": "e9e9448b-7f3c-4ebb-8f3d-90f8a6dbcb52",
   "metadata": {},
   "outputs": [],
   "source": [
    "# Hyperparameters\n",
    "learning_rate = 0.1\n",
    "epochs = 100  # Number of training iterations"
   ]
  },
  {
   "cell_type": "code",
   "execution_count": 5,
   "id": "2b679333-fcef-4f83-a0a7-74d742452a54",
   "metadata": {},
   "outputs": [],
   "source": [
    "# Activation Function (Step Function)\n",
    "def step_function(z):\n",
    "    return 1 if z >= 0 else 0"
   ]
  },
  {
   "cell_type": "code",
   "execution_count": 6,
   "id": "31432aae-f588-49c0-b497-287c6910993e",
   "metadata": {},
   "outputs": [],
   "source": [
    "# Training the Perceptron\n",
    "for epoch in range(epochs):\n",
    "    total_error = 0  # Track error in each epoch"
   ]
  },
  {
   "cell_type": "code",
   "execution_count": 17,
   "id": "b559c233-15f5-4d99-844b-5e05f916717b",
   "metadata": {},
   "outputs": [],
   "source": [
    "# Training the Perceptron\n",
    "for epoch in range(epochs):\n",
    "    total_error = 0  # Track error in each epoch\n",
    "    \n",
    "    for i in range(len(X)):\n",
    "        # Calculate weighted sum (z = w1*x1 + w2*x2 + bias)\n",
    "        z = np.dot(X[i], weights) + bias\n",
    "        y_pred = step_function(z)  # Apply activation function\n",
    "        \n",
    "        # Compute the error (Y - y_pred)\n",
    "        error = Y[i] - y_pred  \n",
    "        total_error += abs(error)  # Sum absolute errors\n",
    "        \n",
    "        # Update weights and bias using Perceptron Learning Rule\n",
    "        weights += learning_rate * error * X[i]  \n",
    "        bias += learning_rate * error  \n",
    "\n",
    "    # Stop early if no error (perfect classification)\n",
    "    if total_error == 0:\n",
    "        break  "
   ]
  },
  {
   "cell_type": "code",
   "execution_count": 18,
   "id": "c8c0bd0e-2157-44df-9827-20452bef153c",
   "metadata": {},
   "outputs": [
    {
     "name": "stdout",
     "output_type": "stream",
     "text": [
      "Final Weights: [0.419999   0.27212236]\n",
      "Final Bias: -0.004477996493793129\n"
     ]
    }
   ],
   "source": [
    "# Print final weights and bias\n",
    "print(\"Final Weights:\", weights)\n",
    "print(\"Final Bias:\", bias)"
   ]
  },
  {
   "cell_type": "code",
   "execution_count": 19,
   "id": "0cb8ce78-fbbe-4cce-a034-cd999a3edea6",
   "metadata": {},
   "outputs": [
    {
     "name": "stdout",
     "output_type": "stream",
     "text": [
      "Input: [0 0] => Predicted Output: 0\n",
      "Input: [0 1] => Predicted Output: 1\n",
      "Input: [1 0] => Predicted Output: 1\n",
      "Input: [1 1] => Predicted Output: 1\n"
     ]
    }
   ],
   "source": [
    "# Testing the Model\n",
    "for i in range(len(X)):\n",
    "    z = np.dot(X[i], weights) + bias\n",
    "    output = step_function(z)\n",
    "    print(f\"Input: {X[i]} => Predicted Output: {output}\")"
   ]
  },
  {
   "cell_type": "code",
   "execution_count": null,
   "id": "7a096ee0-2705-48da-8f82-4ff0cd3d59db",
   "metadata": {},
   "outputs": [],
   "source": []
  }
 ],
 "metadata": {
  "kernelspec": {
   "display_name": "Python 3 (ipykernel)",
   "language": "python",
   "name": "python3"
  },
  "language_info": {
   "codemirror_mode": {
    "name": "ipython",
    "version": 3
   },
   "file_extension": ".py",
   "mimetype": "text/x-python",
   "name": "python",
   "nbconvert_exporter": "python",
   "pygments_lexer": "ipython3",
   "version": "3.12.7"
  }
 },
 "nbformat": 4,
 "nbformat_minor": 5
}
