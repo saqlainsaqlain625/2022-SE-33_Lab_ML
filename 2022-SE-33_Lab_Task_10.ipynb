{
 "cells": [
  {
   "cell_type": "code",
   "execution_count": 24,
   "id": "8d7a02f0-c670-472b-8c8d-fc7ad6c17e9b",
   "metadata": {},
   "outputs": [],
   "source": [
    "import pandas as pd\n",
    "import numpy as np\n",
    "from sklearn.model_selection import train_test_split\n",
    "from sklearn.preprocessing import LabelEncoder, StandardScaler\n",
    "from sklearn.naive_bayes import GaussianNB, MultinomialNB, BernoulliNB\n",
    "from sklearn.metrics import accuracy_score\n",
    "import warnings\n",
    "warnings.simplefilter(action='ignore', category=pd.errors.SettingWithCopyWarning)\n"
   ]
  },
  {
   "cell_type": "code",
   "execution_count": 25,
   "id": "aaa42bf3-4b81-4048-be0d-0516505da593",
   "metadata": {},
   "outputs": [],
   "source": [
    "# Load the dataset\n",
    "df = pd.read_csv(\"advertising_ef.csv\")"
   ]
  },
  {
   "cell_type": "code",
   "execution_count": 26,
   "id": "ae3882e8-a75e-43fd-ab56-902b784130d9",
   "metadata": {},
   "outputs": [],
   "source": [
    "# Drop rows with missing values\n",
    "df_cleaned = df.dropna()"
   ]
  },
  {
   "cell_type": "code",
   "execution_count": 27,
   "id": "750e3eae-7d9d-45f5-937e-17628262191a",
   "metadata": {},
   "outputs": [],
   "source": [
    "# Encode categorical features\n",
    "label_enc = LabelEncoder()\n",
    "df_cleaned['Gender'] = label_enc.fit_transform(df_cleaned['Gender'])\n",
    "df_cleaned['Country'] = label_enc.fit_transform(df_cleaned['Country'])\n",
    "df_cleaned['City'] = label_enc.fit_transform(df_cleaned['City'])"
   ]
  },
  {
   "cell_type": "code",
   "execution_count": 28,
   "id": "0336a603-7a9b-4c32-ab60-3e63e22722aa",
   "metadata": {},
   "outputs": [],
   "source": [
    "\n",
    "# Define features (X) and target (y)\n",
    "X = df_cleaned.drop(columns=['Clicked on Ad'])\n",
    "y = df_cleaned['Clicked on Ad']\n",
    "\n"
   ]
  },
  {
   "cell_type": "code",
   "execution_count": 29,
   "id": "eb646e27-172d-4ed2-9581-ed6ded1bea3e",
   "metadata": {},
   "outputs": [],
   "source": [
    "# Standardize numerical features\n",
    "scaler = StandardScaler()\n",
    "X[['Daily Time Spent on Site', 'Age', 'Area Income', 'Daily Internet Usage']] = scaler.fit_transform(\n",
    "    X[['Daily Time Spent on Site', 'Age', 'Area Income', 'Daily Internet Usage']]\n",
    ")\n",
    "# Split into train and test sets\n",
    "X_train, X_test, y_train, y_test = train_test_split(X, y, test_size=0.3, random_state=42)"
   ]
  },
  {
   "cell_type": "code",
   "execution_count": 30,
   "id": "08806f73-a456-4337-9a56-4d9fbf5487d3",
   "metadata": {},
   "outputs": [],
   "source": [
    "# Gaussian Naïve Bayes (for numerical features)\n",
    "gnb = GaussianNB()\n",
    "X_train_gnb = X_train[['Daily Time Spent on Site', 'Age', 'Area Income', 'Daily Internet Usage']]\n",
    "X_test_gnb = X_test[['Daily Time Spent on Site', 'Age', 'Area Income', 'Daily Internet Usage']]\n",
    "gnb.fit(X_train_gnb, y_train)\n",
    "probs_gnb = gnb.predict_proba(X_test_gnb)"
   ]
  },
  {
   "cell_type": "code",
   "execution_count": 31,
   "id": "2b806e3c-d492-4701-8938-0a911a485464",
   "metadata": {},
   "outputs": [],
   "source": [
    "# Multinomial Naïve Bayes (for categorical features)\n",
    "mnb = MultinomialNB()\n",
    "X_train_mnb = X_train[['City', 'Country']]\n",
    "X_test_mnb = X_test[['City', 'Country']]\n",
    "mnb.fit(X_train_mnb, y_train)\n",
    "probs_mnb = mnb.predict_proba(X_test_mnb)"
   ]
  },
  {
   "cell_type": "code",
   "execution_count": 32,
   "id": "aca1b325-005d-4a92-b3a1-0f671d9f9755",
   "metadata": {},
   "outputs": [],
   "source": [
    "# Bernoulli Naïve Bayes (for binary feature: Gender)\n",
    "bnb = BernoulliNB()\n",
    "X_train_bnb = X_train[['Gender']]\n",
    "X_test_bnb = X_test[['Gender']]\n",
    "bnb.fit(X_train_bnb, y_train)\n",
    "probs_bnb = bnb.predict_proba(X_test_bnb)"
   ]
  },
  {
   "cell_type": "code",
   "execution_count": 33,
   "id": "1f784d40-60b2-4525-bf45-5b89ec35d4f1",
   "metadata": {},
   "outputs": [
    {
     "name": "stdout",
     "output_type": "stream",
     "text": [
      "Gaussian Naïve Bayes Accuracy: 0.9477351916376306\n",
      "Multinomial Naïve Bayes Accuracy: 0.49477351916376305\n",
      "Bernoulli Naïve Bayes Accuracy: 0.5017421602787456\n",
      "Ensemble Model Accuracy: 0.9547038327526133\n"
     ]
    }
   ],
   "source": [
    "# Ensemble Using Probability Multiplication\n",
    "ensemble_probs = probs_gnb * probs_mnb * probs_bnb  # Multiply probabilities\n",
    "ensemble_probs = ensemble_probs / ensemble_probs.sum(axis=1, keepdims=True)  # Normalize\n",
    "\n",
    "# Final predictions\n",
    "final_predictions = ensemble_probs[:, 1] >= 0.5  # Convert probabilities to binary (0 or 1)\n",
    "\n",
    "# Model accuracies\n",
    "accuracy_gnb = accuracy_score(y_test, gnb.predict(X_test_gnb))\n",
    "accuracy_mnb = accuracy_score(y_test, mnb.predict(X_test_mnb))\n",
    "accuracy_bnb = accuracy_score(y_test, bnb.predict(X_test_bnb))\n",
    "ensemble_accuracy = accuracy_score(y_test, final_predictions)\n",
    "\n",
    "# Print results\n",
    "print(\"Gaussian Naïve Bayes Accuracy:\", accuracy_gnb)\n",
    "print(\"Multinomial Naïve Bayes Accuracy:\", accuracy_mnb)\n",
    "print(\"Bernoulli Naïve Bayes Accuracy:\", accuracy_bnb)\n",
    "print(\"Ensemble Model Accuracy:\", ensemble_accuracy)"
   ]
  },
  {
   "cell_type": "code",
   "execution_count": 34,
   "id": "d1cfe3a4-3750-4604-9596-d669761d76c6",
   "metadata": {},
   "outputs": [
    {
     "data": {
      "text/html": [
       "<div>\n",
       "<style scoped>\n",
       "    .dataframe tbody tr th:only-of-type {\n",
       "        vertical-align: middle;\n",
       "    }\n",
       "\n",
       "    .dataframe tbody tr th {\n",
       "        vertical-align: top;\n",
       "    }\n",
       "\n",
       "    .dataframe thead th {\n",
       "        text-align: right;\n",
       "    }\n",
       "</style>\n",
       "<table border=\"1\" class=\"dataframe\">\n",
       "  <thead>\n",
       "    <tr style=\"text-align: right;\">\n",
       "      <th></th>\n",
       "      <th>Actual Target</th>\n",
       "      <th>GNB - P(No)</th>\n",
       "      <th>GNB - P(Yes)</th>\n",
       "      <th>MNB - P(No)</th>\n",
       "      <th>MNB - P(Yes)</th>\n",
       "      <th>BNB - P(No)</th>\n",
       "      <th>BNB - P(Yes)</th>\n",
       "      <th>Ensemble - P(No)</th>\n",
       "      <th>Ensemble - P(Yes)</th>\n",
       "      <th>Final Prediction</th>\n",
       "    </tr>\n",
       "  </thead>\n",
       "  <tbody>\n",
       "    <tr>\n",
       "      <th>0</th>\n",
       "      <td>No</td>\n",
       "      <td>0.999381</td>\n",
       "      <td>0.000619</td>\n",
       "      <td>0.941175</td>\n",
       "      <td>0.058825</td>\n",
       "      <td>0.468887</td>\n",
       "      <td>0.531113</td>\n",
       "      <td>0.999956</td>\n",
       "      <td>0.000044</td>\n",
       "      <td>NaN</td>\n",
       "    </tr>\n",
       "    <tr>\n",
       "      <th>1</th>\n",
       "      <td>Yes</td>\n",
       "      <td>0.000002</td>\n",
       "      <td>0.999998</td>\n",
       "      <td>0.064263</td>\n",
       "      <td>0.935737</td>\n",
       "      <td>0.468887</td>\n",
       "      <td>0.531113</td>\n",
       "      <td>0.000000</td>\n",
       "      <td>1.000000</td>\n",
       "      <td>NaN</td>\n",
       "    </tr>\n",
       "    <tr>\n",
       "      <th>2</th>\n",
       "      <td>No</td>\n",
       "      <td>0.999426</td>\n",
       "      <td>0.000574</td>\n",
       "      <td>0.558725</td>\n",
       "      <td>0.441275</td>\n",
       "      <td>0.468887</td>\n",
       "      <td>0.531113</td>\n",
       "      <td>0.999486</td>\n",
       "      <td>0.000514</td>\n",
       "      <td>NaN</td>\n",
       "    </tr>\n",
       "    <tr>\n",
       "      <th>3</th>\n",
       "      <td>No</td>\n",
       "      <td>0.999869</td>\n",
       "      <td>0.000131</td>\n",
       "      <td>0.086554</td>\n",
       "      <td>0.913446</td>\n",
       "      <td>0.468887</td>\n",
       "      <td>0.531113</td>\n",
       "      <td>0.998436</td>\n",
       "      <td>0.001564</td>\n",
       "      <td>NaN</td>\n",
       "    </tr>\n",
       "    <tr>\n",
       "      <th>4</th>\n",
       "      <td>Yes</td>\n",
       "      <td>0.000008</td>\n",
       "      <td>0.999992</td>\n",
       "      <td>0.652755</td>\n",
       "      <td>0.347245</td>\n",
       "      <td>0.468887</td>\n",
       "      <td>0.531113</td>\n",
       "      <td>0.000013</td>\n",
       "      <td>0.999987</td>\n",
       "      <td>NaN</td>\n",
       "    </tr>\n",
       "  </tbody>\n",
       "</table>\n",
       "</div>"
      ],
      "text/plain": [
       "  Actual Target  GNB - P(No)  GNB - P(Yes)  MNB - P(No)  MNB - P(Yes)  \\\n",
       "0            No     0.999381      0.000619     0.941175      0.058825   \n",
       "1           Yes     0.000002      0.999998     0.064263      0.935737   \n",
       "2            No     0.999426      0.000574     0.558725      0.441275   \n",
       "3            No     0.999869      0.000131     0.086554      0.913446   \n",
       "4           Yes     0.000008      0.999992     0.652755      0.347245   \n",
       "\n",
       "   BNB - P(No)  BNB - P(Yes)  Ensemble - P(No)  Ensemble - P(Yes)  \\\n",
       "0     0.468887      0.531113          0.999956           0.000044   \n",
       "1     0.468887      0.531113          0.000000           1.000000   \n",
       "2     0.468887      0.531113          0.999486           0.000514   \n",
       "3     0.468887      0.531113          0.998436           0.001564   \n",
       "4     0.468887      0.531113          0.000013           0.999987   \n",
       "\n",
       "  Final Prediction  \n",
       "0              NaN  \n",
       "1              NaN  \n",
       "2              NaN  \n",
       "3              NaN  \n",
       "4              NaN  "
      ]
     },
     "execution_count": 34,
     "metadata": {},
     "output_type": "execute_result"
    }
   ],
   "source": [
    "# Convert probabilities to DataFrame for better understanding in the form of table\n",
    "prob_df = pd.DataFrame({\n",
    "    'Actual Target': y_test.values,\n",
    "    'GNB - P(No)': probs_gnb[:, 0], 'GNB - P(Yes)': probs_gnb[:, 1],\n",
    "    'MNB - P(No)': probs_mnb[:, 0], 'MNB - P(Yes)': probs_mnb[:, 1],\n",
    "    'BNB - P(No)': probs_bnb[:, 0], 'BNB - P(Yes)': probs_bnb[:, 1],\n",
    "    'Ensemble - P(No)': ensemble_probs[:, 0], 'Ensemble - P(Yes)': ensemble_probs[:, 1],\n",
    "    'Final Prediction': final_predictions\n",
    "})\n",
    "\n",
    "# Map 0 -> \"No\", 1 -> \"Yes\" for better readability\n",
    "prob_df['Actual Target'] = prob_df['Actual Target'].map({0: \"No\", 1: \"Yes\"})\n",
    "prob_df['Final Prediction'] = prob_df['Final Prediction'].map({0: \"No\", 1: \"Yes\"})\n",
    "\n",
    "# Display DataFrame in tabular format with rounded values\n",
    "prob_df = prob_df.round(6) \n",
    "\n",
    "prob_df.head()\n"
   ]
  },
  {
   "cell_type": "code",
   "execution_count": null,
   "id": "8933ddf8-245f-4a41-81a9-620106a1b417",
   "metadata": {},
   "outputs": [],
   "source": []
  }
 ],
 "metadata": {
  "kernelspec": {
   "display_name": "Python 3 (ipykernel)",
   "language": "python",
   "name": "python3"
  },
  "language_info": {
   "codemirror_mode": {
    "name": "ipython",
    "version": 3
   },
   "file_extension": ".py",
   "mimetype": "text/x-python",
   "name": "python",
   "nbconvert_exporter": "python",
   "pygments_lexer": "ipython3",
   "version": "3.12.7"
  }
 },
 "nbformat": 4,
 "nbformat_minor": 5
}
